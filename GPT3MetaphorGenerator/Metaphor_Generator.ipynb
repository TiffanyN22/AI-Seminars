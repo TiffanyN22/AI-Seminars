{
  "cells": [
    {
      "cell_type": "code",
      "execution_count": null,
      "metadata": {
        "id": "gmrUv98EKBw4"
      },
      "outputs": [],
      "source": [
        "!pip3 install pandas\n",
        "!pip3 install openai\n",
        "!pip3 install sklearn"
      ]
    },
    {
      "cell_type": "code",
      "execution_count": null,
      "metadata": {
        "id": "y16eReNiLKSR"
      },
      "outputs": [],
      "source": [
        "#generate synthetic dataset of metaphors\n",
        "import openai\n",
        "import os\n",
        "import pandas\n",
        "import time\n",
        "\n",
        "openai.api_key = str(os.getenv('OPENAI_KEY'))\n",
        "\n",
        "dataset = pandas.DataFrame(columns = ['metaphor', 'topic'])\n",
        "\n",
        "for i in range(200):\n",
        "    happiness_metaphor = openai.Completion.create(\n",
        "        model='text-davinci-002',\n",
        "        prompt='Write a metaphor about happiness',\n",
        "        temperature=1,  #different response each time\n",
        "        max_tokens=256,\n",
        "        frequency_penalty=0,\n",
        "        presence_penalty=0\n",
        "    )\n",
        "    sadness_metaphor = openai.Completion.create(\n",
        "        model='text-davinci-002',\n",
        "        prompt='Write a metaphor about sadness',\n",
        "        temperature=1,\n",
        "        max_tokens=256,\n",
        "        frequency_penalty=0,\n",
        "        presence_penalty=0\n",
        "    )\n",
        "    anger_metaphor = openai.Completion.create(\n",
        "        model='text-davinci-002',\n",
        "        prompt='Write a metaphor about anger',\n",
        "        temperature=1,\n",
        "        max_tokens=256,\n",
        "        frequency_penalty=0,\n",
        "        presence_penalty=0\n",
        "    )\n",
        "    love_metaphor = openai.Completion.create(\n",
        "        model='text-davinci-002',\n",
        "        prompt='Write a metaphor about love',\n",
        "        temperature=1,\n",
        "        max_tokens=256,\n",
        "        frequency_penalty=0,\n",
        "        presence_penalty=0\n",
        "    )\n",
        "\n",
        "    happiness_metaphor = {\n",
        "        'metaphor' : happiness_metaphor['choices'][0]['text'].replace('\\n',''),\n",
        "        'topic' : 'happiness'\n",
        "    }\n",
        "    sadness_metaphor = {\n",
        "        'metaphor' : sadness_metaphor['choices'][0]['text'].replace('\\n',''),\n",
        "        'topic' : 'sadness'\n",
        "    }\n",
        "    anger_metaphor = {\n",
        "        'metaphor' : anger_metaphor['choices'][0]['text'].replace('\\n',''),\n",
        "        'topic' : 'anger'\n",
        "    }\n",
        "    love_metaphor = {\n",
        "        'metaphor' : love_metaphor['choices'][0]['text'].replace('\\n',''),\n",
        "        'topic' : 'love'\n",
        "    }\n",
        "\n",
        "    dataset = dataset.append(happiness_metaphor, ignore_index = True)\n",
        "    dataset = dataset.append(sadness_metaphor, ignore_index = True)\n",
        "    dataset = dataset.append(anger_metaphor, ignore_index = True)\n",
        "    dataset = dataset.append(love_metaphor, ignore_index = True)\n",
        "\n",
        "    print(happiness_metaphor)\n",
        "    print(sadness_metaphor)\n",
        "    print(anger_metaphor)\n",
        "    print(love_metaphor)\n",
        "    \n",
        "    time.sleep(13)\n",
        "\n",
        "dataset.to_csv(os.path.join(os.path.curdir, 'metaphor_dataset.csv'))"
      ]
    },
    {
      "cell_type": "code",
      "execution_count": null,
      "metadata": {
        "id": "zbFj75YZmEe1"
      },
      "outputs": [],
      "source": [
        "#Metaphor dataset topic analysis\n",
        "import pandas\n",
        "from sklearn.svm import SVC\n",
        "from sklearn.feature_extraction.text import TfidfVectorizer\n",
        "from sklearn.preprocessing import LabelEncoder\n",
        "from sklearn.svm import SVC\n",
        "from sklearn.model_selection import train_test_split\n",
        "from sklearn.metrics import accuracy_score, confusion_matrix\n",
        "\n",
        "dataset = pandas.DataFrame(columns = ['metaphor', 'topic'])\n",
        "dataset = pandas.read_csv('metaphor_dataset.csv', index_col = 0)\n",
        "\n",
        "dataset['metaphor'] = LabelEncoder().fit_transform(dataset['metaphor'])\n",
        "\n",
        "X = TfidfVectorizer().fit_transform(dataset['topic'])\n",
        "Y = dataset['topic']\n",
        "\n",
        "train_x, test_x, train_y, test_y = train_test_split(X, Y, test_size = 0.2, random_state = 42)\n",
        "\n",
        "classifier = SVC()\n",
        "classifier.fit(train_x, train_y)\n",
        "\n",
        "predictions = classifier.predict(test_x)\n",
        "\n",
        "print(confusion_matrix(test_y, predictions))"
      ]
    },
    {
      "cell_type": "code",
      "execution_count": null,
      "metadata": {
        "id": "cvjgXnzkKO8p"
      },
      "outputs": [],
      "source": [
        "#simile generator for an inputed topic\n",
        "import os\n",
        "import openai\n",
        "\n",
        "openai.api_key = str(os.getenv('OPENAI_KEY'))\n",
        "numOfSimiles = input(\"Enter the number of similes you want: \")\n",
        "\n",
        "userTopic = input(\"Enter a topic: \")\n",
        "similePrompt = \"Write \" + numOfSimiles +\" long similes about \" + userTopic\n",
        "\n",
        "response = openai.Completion.create(\n",
        "  model=\"text-davinci-002\",\n",
        "  prompt=similePrompt,\n",
        "  temperature=1,\n",
        "  max_tokens=150,\n",
        "  top_p=1.0,\n",
        "  frequency_penalty=0.0,\n",
        "  presence_penalty=0.0\n",
        ")\n",
        "print(response['choices'][0]['text'])\n"
      ]
    }
  ],
  "metadata": {
    "colab": {
      "collapsed_sections": [],
      "provenance": []
    },
    "kernelspec": {
      "display_name": "Python 3.10.6 64-bit",
      "language": "python",
      "name": "python3"
    },
    "language_info": {
      "name": "python",
      "version": "3.10.6"
    },
    "vscode": {
      "interpreter": {
        "hash": "aee8b7b246df8f9039afb4144a1f6fd8d2ca17a180786b69acc140d282b71a49"
      }
    }
  },
  "nbformat": 4,
  "nbformat_minor": 0
}
